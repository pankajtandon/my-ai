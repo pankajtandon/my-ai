{
  "nbformat": 4,
  "nbformat_minor": 0,
  "metadata": {
    "colab": {
      "provenance": [],
      "authorship_tag": "ABX9TyNhya1GfL2eE2V2Xgt5lot6",
      "include_colab_link": true
    },
    "kernelspec": {
      "name": "python3",
      "display_name": "Python 3"
    },
    "language_info": {
      "name": "python"
    }
  },
  "cells": [
    {
      "cell_type": "markdown",
      "metadata": {
        "id": "view-in-github",
        "colab_type": "text"
      },
      "source": [
        "<a href=\"https://colab.research.google.com/github/pankajtandon/my-ai/blob/main/my_ai.ipynb\" target=\"_parent\"><img src=\"https://colab.research.google.com/assets/colab-badge.svg\" alt=\"Open In Colab\"/></a>"
      ]
    },
    {
      "cell_type": "code",
      "source": [
        "# Store keys in google drive to prevent it getting into source control.\n",
        "from google.colab import drive\n",
        "drive.mount('/content/drive')"
      ],
      "metadata": {
        "colab": {
          "base_uri": "https://localhost:8080/"
        },
        "id": "aRdljk_3FDWf",
        "outputId": "7a045ca2-66aa-478a-ddf4-58c44283cb89"
      },
      "execution_count": 1,
      "outputs": [
        {
          "output_type": "stream",
          "name": "stdout",
          "text": [
            "Mounted at /content/drive\n"
          ]
        }
      ]
    },
    {
      "cell_type": "code",
      "source": [
        "# Install the necessary packages.\n",
        "!pip install openai -q\n"
      ],
      "metadata": {
        "id": "bc45yjo2E9WP"
      },
      "execution_count": null,
      "outputs": []
    },
    {
      "cell_type": "code",
      "execution_count": 3,
      "metadata": {
        "id": "sA7e7KDQDtm2"
      },
      "outputs": [],
      "source": [
        "import openai\n",
        "import json\n",
        "import os"
      ]
    },
    {
      "cell_type": "code",
      "source": [
        "# Make the key available\n",
        "with open('/content/drive/MyDrive/colab_content/api-keys.txt', 'r') as f:\n",
        "    api_key_list = f.readlines()\n",
        "for kv in api_key_list:\n",
        "    k,v = kv.split('=')\n",
        "    #print(k, v)\n",
        "    os.environ[k] = v.strip()\n",
        "\n",
        "openai.api_key = os.getenv(\"OPENAI_API_KEY\")"
      ],
      "metadata": {
        "id": "c_27XUtwJ5fm"
      },
      "execution_count": 8,
      "outputs": []
    },
    {
      "cell_type": "code",
      "source": [
        "GPT_MODEL = \"gpt-3.5-turbo-0613\"\n",
        "#GPT_MODEL = \"gpt-4\"\n",
        "\n",
        "# This is metadata about the functions that the model will use to determine what to call.\n",
        "function_meta = [\n",
        "    {\n",
        "        \"name\": \"get_my_bank_balance\",\n",
        "        \"description\": \"Returns the amount of money I have in my bank account\",\n",
        "        \"parameters\": {\n",
        "            \"type\": \"object\",\n",
        "            \"properties\": {\n",
        "                \"accountId\": {\n",
        "                    \"type\": \"string\",\n",
        "                    \"description\": \"the account id that holds all my money\"\n",
        "                },\n",
        "                \"routingNumber\": {\n",
        "                    \"type\": \"string\",\n",
        "                    \"description\": \"the routing number of the bank that has the account that holds all my money\"\n",
        "                },\n",
        "            },\n",
        "            \"required\": [\"accountId\", \"routingNumber\"]\n",
        "        }\n",
        "    },\n",
        "    {\n",
        "        \"name\": \"get_routing_number_for_bank\",\n",
        "        \"description\": \"Returns the routing number of the bank given the name of the bank\",\n",
        "        \"parameters\": {\n",
        "            \"type\": \"object\",\n",
        "            \"properties\": {\n",
        "                \"bankName\": {\n",
        "                    \"type\": \"string\",\n",
        "                    \"description\": \"the name of the bank\"\n",
        "                }\n",
        "            },\n",
        "            \"required\": [\"bankName\"]\n",
        "        }\n",
        "    },\n",
        "    {\n",
        "        \"name\": \"get_name_of_my_bank\",\n",
        "        \"description\": \"Returns bank name where my money is saved!\",\n",
        "        \"parameters\": {\n",
        "            \"type\": \"object\",\n",
        "            \"properties\": {\n",
        "            }\n",
        "        }\n",
        "    },\n",
        "    {\n",
        "        \"name\": \"get_my_account_number\",\n",
        "        \"description\": \"Returns my account number\",\n",
        "        \"parameters\": {\n",
        "            \"type\": \"object\",\n",
        "            \"properties\": {\n",
        "            }\n",
        "        }\n",
        "    }\n",
        "]\n",
        "\n",
        "\n",
        "# Implementations of functions\n",
        "\n",
        "def get_my_bank_balance(accountId, routingNumber):\n",
        "    # go out and get it!\n",
        "    # For now:\n",
        "    # print(\"---->Returning bank balance for accountId\", accountId, \" and routingNumber\", routingNumber)\n",
        "    return {\"balance\" : \"12500\", \"currency\" : \"USD\"}\n",
        "\n",
        "def get_routing_number_for_bank(bankName) :\n",
        "    # go out and get it!\n",
        "    # For now:\n",
        "    # print(\"--->Returning routingNumber for bank\", bankName)\n",
        "    return {\"routingNumber\": \"ROUTING_1234\"}\n",
        "\n",
        "def get_my_account_number() :\n",
        "    # go out and get it!\n",
        "    # For now:\n",
        "    # print(\"--->Returning account number\")\n",
        "    return {\"accountId\": \"AC_NUM_1234\"}\n",
        "\n",
        "def get_name_of_my_bank():\n",
        "    # go out and get it!\n",
        "    # For now:\n",
        "    # print(\"---->Returning a random bank name\")\n",
        "    return {\"bankName\": \"Chase\"}\n",
        "\n",
        "\n",
        "\n",
        "# Calls to implementations based on models response\n",
        "def call_the_implemented_function(chat_response):\n",
        "    function_call = chat_response[\"choices\"][0][\"message\"][\"function_call\"]\n",
        "    function_name = function_call[\"name\"]\n",
        "    #print(\"--------->\", function_name)\n",
        "    arguments = function_call[\"arguments\"]\n",
        "    if function_name == \"get_name_of_my_bank\":\n",
        "        return get_name_of_my_bank()\n",
        "    elif function_name == \"get_routing_number_for_bank\":\n",
        "        bankName = eval(arguments).get(\"bankName\")\n",
        "        return get_routing_number_for_bank(bankName)\n",
        "    elif function_name == \"get_my_account_number\":\n",
        "        return get_my_account_number()\n",
        "    elif function_name == \"get_my_bank_balance\":\n",
        "        routingNumber = eval(arguments).get(\"routingNumber\")\n",
        "        accountId = eval(arguments).get(\"accountId\")\n",
        "        return get_my_bank_balance(accountId, routingNumber)\n",
        "    else:\n",
        "        return\n",
        "\n",
        "\n",
        "def initiate_chat(query):\n",
        "    messages = [{\"role\": \"user\", \"content\": query}]\n",
        "    loop_check = True\n",
        "    while loop_check:\n",
        "        response = openai.ChatCompletion.create(\n",
        "            model= GPT_MODEL,\n",
        "            messages=messages,\n",
        "            functions = function_meta,\n",
        "            function_call=\"auto\"\n",
        "        )\n",
        "        loop_check = (response[\"choices\"][0][\"finish_reason\"] == \"function_call\")\n",
        "        #print (\"Model response\", response)\n",
        "        if loop_check:\n",
        "          print(\"Called function\", response[\"choices\"][0][\"message\"][\"function_call\"][\"name\"], \"with arguments\", response[\"choices\"][0][\"message\"][\"function_call\"][\"arguments\"])\n",
        "          function_response = call_the_implemented_function(response)\n",
        "          print(\"Function returned\", json.dumps(function_response))\n",
        "          messages.append({\n",
        "              \"role\": \"function\",\n",
        "              \"name\": response[\"choices\"][0][\"message\"][\"function_call\"][\"name\"],\n",
        "              \"content\": json.dumps(function_response)\n",
        "          })\n",
        "          # print(\"messages: \", messages)\n",
        "    else:\n",
        "        print(\"Final answer\", response[\"choices\"][0][\"message\"][\"content\"])\n",
        "\n",
        "# This uses a random accountId and a routing number instead of using my custom functions\n",
        "# query = \"What are my savings in the bank that I store my money in?\"\n",
        "\n",
        "# Works! -> \"Your account number is AC_NUM_1234 and the routing number for your bank is 1234ABC. The savings in your bank account is $12,500.\"\n",
        "# query = \"First determine my account number and my routing number and then use that info to determine what are my savings in the bank that I store my money in?\"\n",
        "\n",
        "# Partial: Got my bank name but used fake account number and routing number: \"Your savings in the bank where you store your money, which is Chase, is $12,500.\"\n",
        "# query = \"What are my savings in the bank that I store my money in? Don't make assumptions about my accountId and my routing number\"\n",
        "\n",
        "# Works! -> \"Based on the information provided, your account number is AC_NUM_1234 and your routing number is 1234ABC. Your current savings in the bank is $12,500.\\n\\nTo determine if you can buy a car worth $13,000 with your current savings, we need to compare the savings with the cost of the car. \\n\\nSince your savings is $12,500, which is less than $13,000, you will not be able to buy the car with your current savings. You need an additional $500 to meet the cost of the car.\"\n",
        "# query = \"If all I wanted in life was a car worth $13000, could I buy that with my current savings? First determine my account number, bank name and my routing number and then use that info to determine what are my savings in the bank. Why or why not?\"\n",
        "\n",
        "# query = \"If all I wanted in life was a car worth $13000, could I buy that with my current savings?\"\n",
        "\n",
        "# query = \"Based on the my actual account number and actual routing number of my bank, can you determine that if all I wanted in life was a car worth $13000, could I buy that with my current savings?\"\n",
        "\n",
        "# This goes directly for get_my_bank_balance with fictitous ac num and routing num.\n",
        "#initiate_chat(\"Based on my bank's name, accountId and routing number, determine if I can purchase a car worth $12570\")\n",
        "\n",
        "\n",
        "initiate_chat(\"First determine my account number and my routing number and then use that info to determine what are my savings in the bank that I store my money in?\")\n"
      ],
      "metadata": {
        "colab": {
          "base_uri": "https://localhost:8080/"
        },
        "id": "qLZ6mR_8FbyN",
        "outputId": "92273499-bae4-41c1-e6f0-93543da473ad"
      },
      "execution_count": 42,
      "outputs": [
        {
          "output_type": "stream",
          "name": "stdout",
          "text": [
            "Called function get_my_account_number with arguments {}\n",
            "Function returned {\"accountId\": \"AC_NUM_1234\"}\n",
            "Called function get_routing_number_for_bank with arguments {\"bankName\": \"My Bank\"}\n",
            "Function returned {\"routingNumber\": \"ROUTING_1234\"}\n",
            "Called function get_my_bank_balance with arguments {\n",
            "\"accountId\": \"AC_NUM_1234\",\n",
            "\"routingNumber\": \"ROUTING_1234\"\n",
            "}\n",
            "Function returned {\"balance\": \"12500\", \"currency\": \"USD\"}\n",
            "Final answer Your account number is AC_NUM_1234 and the routing number for your bank is ROUTING_1234. The current savings in your bank account is $12,500.\n"
          ]
        }
      ]
    }
  ]
}