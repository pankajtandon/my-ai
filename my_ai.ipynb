{
  "nbformat": 4,
  "nbformat_minor": 0,
  "metadata": {
    "colab": {
      "provenance": [],
      "authorship_tag": "ABX9TyNt5CnrSfNsfFyKWFiuGvvS",
      "include_colab_link": true
    },
    "kernelspec": {
      "name": "python3",
      "display_name": "Python 3"
    },
    "language_info": {
      "name": "python"
    }
  },
  "cells": [
    {
      "cell_type": "markdown",
      "metadata": {
        "id": "view-in-github",
        "colab_type": "text"
      },
      "source": [
        "<a href=\"https://colab.research.google.com/github/pankajtandon/my-ai/blob/main/my_ai.ipynb\" target=\"_parent\"><img src=\"https://colab.research.google.com/assets/colab-badge.svg\" alt=\"Open In Colab\"/></a>"
      ]
    },
    {
      "cell_type": "code",
      "source": [
        "# Store keys in google drive to prevent it getting into source control.\n",
        "from google.colab import drive\n",
        "drive.mount('/content/drive')"
      ],
      "metadata": {
        "colab": {
          "base_uri": "https://localhost:8080/"
        },
        "id": "aRdljk_3FDWf",
        "outputId": "7fe3cac5-34a7-4b06-9baa-7e15ad597e42"
      },
      "execution_count": 1,
      "outputs": [
        {
          "output_type": "stream",
          "name": "stdout",
          "text": [
            "Mounted at /content/drive\n"
          ]
        }
      ]
    },
    {
      "cell_type": "code",
      "source": [
        "# Install the necessary packages.\n",
        "!pip install openai -q\n"
      ],
      "metadata": {
        "id": "bc45yjo2E9WP"
      },
      "execution_count": 3,
      "outputs": []
    },
    {
      "cell_type": "code",
      "execution_count": 4,
      "metadata": {
        "id": "sA7e7KDQDtm2"
      },
      "outputs": [],
      "source": [
        "import openai\n",
        "import json\n",
        "import os"
      ]
    },
    {
      "cell_type": "code",
      "source": [
        "# Make the key available\n",
        "with open('/content/drive/MyDrive/colab_content/api-keys.txt', 'r') as f:\n",
        "    api_key_list = f.readlines()\n",
        "for kv in api_key_list:\n",
        "    k,v = kv.split('=')\n",
        "    #print(k, v)\n",
        "    os.environ[k] = v.strip()\n",
        "\n",
        "openai.api_key = os.getenv(\"OPENAI_API_KEY\")"
      ],
      "metadata": {
        "id": "c_27XUtwJ5fm"
      },
      "execution_count": 5,
      "outputs": []
    },
    {
      "cell_type": "code",
      "source": [
        "from opeanai import OpenAI"
      ],
      "metadata": {
        "id": "BA3bS-1YlUpj",
        "outputId": "23b78969-242d-467e-e39d-8fdd4e1ac996",
        "colab": {
          "base_uri": "https://localhost:8080/",
          "height": 322
        }
      },
      "execution_count": 12,
      "outputs": [
        {
          "output_type": "error",
          "ename": "ModuleNotFoundError",
          "evalue": "No module named 'opeanai'",
          "traceback": [
            "\u001b[0;31m---------------------------------------------------------------------------\u001b[0m",
            "\u001b[0;31mModuleNotFoundError\u001b[0m                       Traceback (most recent call last)",
            "\u001b[0;32m<ipython-input-12-c5c6370825bd>\u001b[0m in \u001b[0;36m<cell line: 1>\u001b[0;34m()\u001b[0m\n\u001b[0;32m----> 1\u001b[0;31m \u001b[0;32mfrom\u001b[0m \u001b[0mopeanai\u001b[0m \u001b[0;32mimport\u001b[0m \u001b[0mOpenAI\u001b[0m\u001b[0;34m\u001b[0m\u001b[0;34m\u001b[0m\u001b[0m\n\u001b[0m",
            "\u001b[0;31mModuleNotFoundError\u001b[0m: No module named 'opeanai'",
            "",
            "\u001b[0;31m---------------------------------------------------------------------------\u001b[0;32m\nNOTE: If your import is failing due to a missing package, you can\nmanually install dependencies using either !pip or !apt.\n\nTo view examples of installing some common dependencies, click the\n\"Open Examples\" button below.\n\u001b[0;31m---------------------------------------------------------------------------\u001b[0m\n"
          ],
          "errorDetails": {
            "actions": [
              {
                "action": "open_url",
                "actionText": "Open Examples",
                "url": "/notebooks/snippets/importing_libraries.ipynb"
              }
            ]
          }
        }
      ]
    },
    {
      "cell_type": "code",
      "source": [
        "GPT_MODEL = \"gpt-3.5-turbo-0613\"\n",
        "#GPT_MODEL = \"gpt-4\"\n",
        "\n",
        "# This is metadata about the functions that the model will use to determine what to call.\n",
        "function_meta = [\n",
        "    {\n",
        "        \"name\": \"get_my_bank_balance\",\n",
        "        \"description\": \"Returns the amount of money I have in my bank account\",\n",
        "        \"parameters\": {\n",
        "            \"type\": \"object\",\n",
        "            \"properties\": {\n",
        "                \"accountId\": {\n",
        "                    \"type\": \"string\",\n",
        "                    \"description\": \"the account id that holds all my money\"\n",
        "                },\n",
        "                \"routingNumber\": {\n",
        "                    \"type\": \"string\",\n",
        "                    \"description\": \"the routing number of the bank that has the account that holds all my money\"\n",
        "                },\n",
        "            },\n",
        "            \"required\": [\"accountId\", \"routingNumber\"]\n",
        "        }\n",
        "    },\n",
        "    {\n",
        "        \"name\": \"get_routing_number_for_bank\",\n",
        "        \"description\": \"Returns the routing number of the bank given the name of the bank\",\n",
        "        \"parameters\": {\n",
        "            \"type\": \"object\",\n",
        "            \"properties\": {\n",
        "                \"bankName\": {\n",
        "                    \"type\": \"string\",\n",
        "                    \"description\": \"the name of the bank\"\n",
        "                }\n",
        "            },\n",
        "            \"required\": [\"bankName\"]\n",
        "        }\n",
        "    },\n",
        "    {\n",
        "        \"name\": \"get_name_of_my_bank\",\n",
        "        \"description\": \"Returns bank name where my money is saved!\",\n",
        "        \"parameters\": {\n",
        "            \"type\": \"object\",\n",
        "            \"properties\": {\n",
        "            }\n",
        "        }\n",
        "    },\n",
        "    {\n",
        "        \"name\": \"get_my_account_number\",\n",
        "        \"description\": \"Returns my account number\",\n",
        "        \"parameters\": {\n",
        "            \"type\": \"object\",\n",
        "            \"properties\": {\n",
        "            }\n",
        "        }\n",
        "    },\n",
        "    {\n",
        "        \"name\": \"current_exchange_rate_INR_to_USD\",\n",
        "        \"description\": \"current exchange rate from INR to USD\",\n",
        "        \"parameters\": {\n",
        "            \"type\": \"object\",\n",
        "            \"properties\": {\n",
        "                \"INR\": {\n",
        "                    \"type\": \"number\",\n",
        "                    \"description\": \"the currency value expressed in INR\"\n",
        "                }\n",
        "            }\n",
        "        }\n",
        "    },\n",
        "]\n",
        "\n",
        "\n",
        "# Implementations of functions\n",
        "\n",
        "def get_my_bank_balance(accountId, routingNumber):\n",
        "    # go out and get it!\n",
        "    # For now:\n",
        "    # print(\"---->Returning bank balance for accountId\", accountId, \" and routingNumber\", routingNumber)\n",
        "    return {\"balance\" : \"12500\", \"currency\" : \"USD\"}\n",
        "\n",
        "def get_routing_number_for_bank(bankName) :\n",
        "    # go out and get it!\n",
        "    # For now:\n",
        "    # print(\"--->Returning routingNumber for bank\", bankName)\n",
        "    return {\"routingNumber\": \"ROUTING_1234\"}\n",
        "\n",
        "def get_my_account_number() :\n",
        "    # go out and get it!\n",
        "    # For now:\n",
        "    # print(\"--->Returning account number\")\n",
        "    return {\"accountId\": \"AC_NUM_1234\"}\n",
        "\n",
        "def get_name_of_my_bank():\n",
        "    # go out and get it!\n",
        "    # For now:\n",
        "    # print(\"---->Returning a random bank name\")\n",
        "    return {\"bankName\": \"Chase\"}\n",
        "\n",
        "def current_exchange_rate_INR_to_USD(INR):\n",
        "    # go out and get it!\n",
        "    # For now:\n",
        "    # print(\"---->Returning UDS for INR\", INR)\n",
        "    return {\"USD\": INR/80}\n",
        "\n",
        "\n",
        "# Calls to implementations based on models response\n",
        "def call_the_implemented_function(function_name, arguments):\n",
        "    if function_name == \"get_name_of_my_bank\":\n",
        "        return get_name_of_my_bank()\n",
        "    elif function_name == \"get_routing_number_for_bank\":\n",
        "        bankName = eval(arguments).get(\"bankName\")\n",
        "        return get_routing_number_for_bank(bankName)\n",
        "    elif function_name == \"get_my_account_number\":\n",
        "        return get_my_account_number()\n",
        "    elif function_name == \"get_my_bank_balance\":\n",
        "        routingNumber = eval(arguments).get(\"routingNumber\")\n",
        "        accountId = eval(arguments).get(\"accountId\")\n",
        "        return get_my_bank_balance(accountId, routingNumber)\n",
        "    elif function_name == \"current_exchange_rate_INR_to_USD\":\n",
        "        inr = eval(arguments).get(\"INR\")\n",
        "        return current_exchange_rate_INR_to_USD(inr)\n",
        "    else:\n",
        "        return {}\n",
        "\n",
        "\n",
        "def initiate_chat(query):\n",
        "\n",
        "    count = 0;\n",
        "    # First invocation of the chat iteration is with role user\n",
        "    messages = [{\"role\": \"user\", \"content\": query}]\n",
        "    loop_check = True\n",
        "    while loop_check:\n",
        "        count = count + 1\n",
        "\n",
        "        response = openai.chat.completions.create(\n",
        "          messages = messages,\n",
        "          model = GPT_MODEL,\n",
        "          functions = function_meta,\n",
        "          function_call=\"auto\"\n",
        "        )\n",
        "        print(\"Response: \", response)\n",
        "        loop_check = (response.choices[0].finish_reason == \"function_call\")\n",
        "        print (\"Model response count: \" + str(count), response)\n",
        "        if loop_check:\n",
        "          # Model wants us to call this function with these args\n",
        "          function_name = response.choices[0].message.function_call.name\n",
        "          arguments = response.choices[0].message.function_call.arguments\n",
        "\n",
        "          print(\"Called function\", function_name, \"with arguments\", arguments)\n",
        "          function_response = call_the_implemented_function(function_name, arguments)\n",
        "          print(\"Function returned\", json.dumps(function_response))\n",
        "\n",
        "          # Stuff the json returned by the implementation into the message going back into the model for the next chat iteration\n",
        "          # This time the role is function, not user.\n",
        "          messages.append({\n",
        "              \"role\": \"function\",\n",
        "              \"name\": function_name,\n",
        "              \"content\": json.dumps(function_response)\n",
        "          })\n",
        "          # print(\"messages: \", messages)\n",
        "    else:\n",
        "        print(\"Final answer:\", response.choices[0].message.content)\n",
        "\n",
        "# This uses a random accountId and a routing number instead of using my custom functions\n",
        "# query = \"What are my savings in the bank that I store my money in?\"\n",
        "\n",
        "# Works! -> \"Your account number is AC_NUM_1234 and the routing number for your bank is 1234ABC. The savings in your bank account is $12,500.\"\n",
        "# query = \"First determine my account number and my routing number and then use that info to determine what are my savings in the bank that I store my money in?\"\n",
        "\n",
        "# Partial: Got my bank name but used fake account number and routing number: \"Your savings in the bank where you store your money, which is Chase, is $12,500.\"\n",
        "# query = \"What are my savings in the bank that I store my money in? Don't make assumptions about my accountId and my routing number\"\n",
        "\n",
        "# Works! -> \"Based on the information provided, your account number is AC_NUM_1234 and your routing number is 1234ABC. Your current savings in the bank is $12,500.\\n\\nTo determine if you can buy a car worth $13,000 with your current savings, we need to compare the savings with the cost of the car. \\n\\nSince your savings is $12,500, which is less than $13,000, you will not be able to buy the car with your current savings. You need an additional $500 to meet the cost of the car.\"\n",
        "# query = \"If all I wanted in life was a car worth $13000, could I buy that with my current savings? First determine my account number, bank name and my routing number and then use that info to determine what are my savings in the bank. Why or why not?\"\n",
        "\n",
        "# query = \"If all I wanted in life was a car worth $13000, could I buy that with my current savings?\"\n",
        "\n",
        "# query = \"Based on the my actual account number and actual routing number of my bank, can you determine that if all I wanted in life was a car worth $13000, could I buy that with my current savings?\"\n",
        "\n",
        "# This goes directly for get_my_bank_balance with fictitous ac num and routing num.\n",
        "#initiate_chat(\"Based on my bank's name, accountId and routing number, determine if I can purchase a car worth $12570\")\n",
        "\n",
        "\n",
        "initiate_chat(\"Can I buy a car worth INR 300000 in the USA based on how much money I have in the bank\")\n"
      ],
      "metadata": {
        "colab": {
          "base_uri": "https://localhost:8080/"
        },
        "id": "qLZ6mR_8FbyN",
        "outputId": "d0f3eb4d-56c2-4ca2-aade-53de2fb5012a"
      },
      "execution_count": 22,
      "outputs": [
        {
          "output_type": "stream",
          "name": "stdout",
          "text": [
            "Response:  ChatCompletion(id='chatcmpl-8e92AbdQP4vXngUupR5KKCt5j8pXv', choices=[Choice(finish_reason='function_call', index=0, logprobs=None, message=ChatCompletionMessage(content=None, role='assistant', function_call=FunctionCall(arguments='{\\n  \"accountId\": \"1234567890\",\\n  \"routingNumber\": \"987654321\"\\n}', name='get_my_bank_balance'), tool_calls=None))], created=1704578538, model='gpt-3.5-turbo-0613', object='chat.completion', system_fingerprint=None, usage=CompletionUsage(completion_tokens=30, prompt_tokens=228, total_tokens=258))\n",
            "Model response count: 1 ChatCompletion(id='chatcmpl-8e92AbdQP4vXngUupR5KKCt5j8pXv', choices=[Choice(finish_reason='function_call', index=0, logprobs=None, message=ChatCompletionMessage(content=None, role='assistant', function_call=FunctionCall(arguments='{\\n  \"accountId\": \"1234567890\",\\n  \"routingNumber\": \"987654321\"\\n}', name='get_my_bank_balance'), tool_calls=None))], created=1704578538, model='gpt-3.5-turbo-0613', object='chat.completion', system_fingerprint=None, usage=CompletionUsage(completion_tokens=30, prompt_tokens=228, total_tokens=258))\n",
            "Called function get_my_bank_balance with arguments {\n",
            "  \"accountId\": \"1234567890\",\n",
            "  \"routingNumber\": \"987654321\"\n",
            "}\n",
            "Function returned {\"balance\": \"12500\", \"currency\": \"USD\"}\n",
            "Response:  ChatCompletion(id='chatcmpl-8e92BrkaejyDpg2gBSeD5fY7L0gi4', choices=[Choice(finish_reason='function_call', index=0, logprobs=None, message=ChatCompletionMessage(content=None, role='assistant', function_call=FunctionCall(arguments='{\\n  \"INR\": 300000\\n}', name='current_exchange_rate_INR_to_USD'), tool_calls=None))], created=1704578539, model='gpt-3.5-turbo-0613', object='chat.completion', system_fingerprint=None, usage=CompletionUsage(completion_tokens=23, prompt_tokens=248, total_tokens=271))\n",
            "Model response count: 2 ChatCompletion(id='chatcmpl-8e92BrkaejyDpg2gBSeD5fY7L0gi4', choices=[Choice(finish_reason='function_call', index=0, logprobs=None, message=ChatCompletionMessage(content=None, role='assistant', function_call=FunctionCall(arguments='{\\n  \"INR\": 300000\\n}', name='current_exchange_rate_INR_to_USD'), tool_calls=None))], created=1704578539, model='gpt-3.5-turbo-0613', object='chat.completion', system_fingerprint=None, usage=CompletionUsage(completion_tokens=23, prompt_tokens=248, total_tokens=271))\n",
            "Called function current_exchange_rate_INR_to_USD with arguments {\n",
            "  \"INR\": 300000\n",
            "}\n",
            "Function returned {\"USD\": 3750.0}\n",
            "Response:  ChatCompletion(id='chatcmpl-8e92BMfSg1QSB5ILsUA3ay8ISExf8', choices=[Choice(finish_reason='stop', index=0, logprobs=None, message=ChatCompletionMessage(content='Based on the information you have provided, you currently have $12,500 in your bank account. \\n\\nThe current exchange rate from INR to USD is 1 INR = 0.025 USD. \\n\\nTo determine if you can buy a car worth INR 300000 in the USA, we need to convert the amount to USD. \\n\\n300000 INR = 300000 * 0.025 USD = 7500 USD \\n\\nSince you have $12,500 in your bank account, you can afford to buy a car worth INR 300000 in the USA.', role='assistant', function_call=None, tool_calls=None))], created=1704578539, model='gpt-3.5-turbo-0613', object='chat.completion', system_fingerprint=None, usage=CompletionUsage(completion_tokens=121, prompt_tokens=268, total_tokens=389))\n",
            "Model response count: 3 ChatCompletion(id='chatcmpl-8e92BMfSg1QSB5ILsUA3ay8ISExf8', choices=[Choice(finish_reason='stop', index=0, logprobs=None, message=ChatCompletionMessage(content='Based on the information you have provided, you currently have $12,500 in your bank account. \\n\\nThe current exchange rate from INR to USD is 1 INR = 0.025 USD. \\n\\nTo determine if you can buy a car worth INR 300000 in the USA, we need to convert the amount to USD. \\n\\n300000 INR = 300000 * 0.025 USD = 7500 USD \\n\\nSince you have $12,500 in your bank account, you can afford to buy a car worth INR 300000 in the USA.', role='assistant', function_call=None, tool_calls=None))], created=1704578539, model='gpt-3.5-turbo-0613', object='chat.completion', system_fingerprint=None, usage=CompletionUsage(completion_tokens=121, prompt_tokens=268, total_tokens=389))\n",
            "Final answer: Based on the information you have provided, you currently have $12,500 in your bank account. \n",
            "\n",
            "The current exchange rate from INR to USD is 1 INR = 0.025 USD. \n",
            "\n",
            "To determine if you can buy a car worth INR 300000 in the USA, we need to convert the amount to USD. \n",
            "\n",
            "300000 INR = 300000 * 0.025 USD = 7500 USD \n",
            "\n",
            "Since you have $12,500 in your bank account, you can afford to buy a car worth INR 300000 in the USA.\n"
          ]
        }
      ]
    }
  ]
}